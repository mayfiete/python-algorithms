{
 "cells": [
  {
   "cell_type": "code",
   "execution_count": 8,
   "source": [
    "## Dictionaries\r\n",
    "# Dictionaries are key value pairs and look like below:\r\n",
    "\r\n",
    "word_dict = {'a':\r\n",
    "                {\r\n",
    "                 'apple': 'the round fruit of a tree of the rose family',\r\n",
    "                 'ant': 'an insect which cleans up the floor'\r\n",
    "                },\r\n",
    "             'b':\r\n",
    "                {\r\n",
    "                 'bad': 'of poor quaity or low standard',\r\n",
    "                 'business': 'season 8 of GOT'\r\n",
    "                }\r\n",
    "            }\r\n",
    "\r\n",
    "print(word_dict['b']['business']) \r\n"
   ],
   "outputs": [
    {
     "output_type": "stream",
     "name": "stdout",
     "text": [
      "season 8 of GOT\n"
     ]
    }
   ],
   "metadata": {}
  },
  {
   "cell_type": "code",
   "execution_count": 9,
   "source": [
    "## Dictionaries\r\n",
    "# Dictionaries are key value pairs and look like below:\r\n",
    "\r\n",
    "my_dictionary = {'name': 'mashrur', 'course': 'python', 'fav_food': 'ice cream'}\r\n",
    "print(my_dictionary.get('name'))"
   ],
   "outputs": [
    {
     "output_type": "stream",
     "name": "stdout",
     "text": [
      "mashrur\n"
     ]
    }
   ],
   "metadata": {}
  },
  {
   "cell_type": "code",
   "execution_count": 10,
   "source": [
    "# add a value to the dictionary\r\n",
    "my_dictionary['job'] = 'python programmer'\r\n",
    "print(my_dictionary)"
   ],
   "outputs": [
    {
     "output_type": "stream",
     "name": "stdout",
     "text": [
      "{'name': 'mashrur', 'course': 'python', 'fav_food': 'ice cream', 'job': 'python programmer'}\n"
     ]
    }
   ],
   "metadata": {}
  },
  {
   "cell_type": "code",
   "execution_count": 11,
   "source": [
    "# update a dictionary key\r\n",
    "my_dictionary['course'] = 'java'\r\n",
    "print(my_dictionary)"
   ],
   "outputs": [
    {
     "output_type": "stream",
     "name": "stdout",
     "text": [
      "{'name': 'mashrur', 'course': 'java', 'fav_food': 'ice cream', 'job': 'python programmer'}\n"
     ]
    }
   ],
   "metadata": {}
  },
  {
   "cell_type": "code",
   "execution_count": 12,
   "source": [
    "# print dictionary keys \r\n",
    "print(my_dictionary.keys())\r\n",
    "print(my_dictionary.values()) \r\n",
    "print(my_dictionary.items())"
   ],
   "outputs": [
    {
     "output_type": "stream",
     "name": "stdout",
     "text": [
      "dict_keys(['name', 'course', 'fav_food', 'job'])\n",
      "dict_values(['mashrur', 'java', 'ice cream', 'python programmer'])\n",
      "dict_items([('name', 'mashrur'), ('course', 'java'), ('fav_food', 'ice cream'), ('job', 'python programmer')])\n"
     ]
    }
   ],
   "metadata": {}
  },
  {
   "cell_type": "code",
   "execution_count": 13,
   "source": [
    "# simple for loop \r\n",
    "for k,v in my_dictionary.items():\r\n",
    "    print(k,v)"
   ],
   "outputs": [
    {
     "output_type": "stream",
     "name": "stdout",
     "text": [
      "name mashrur\n",
      "course java\n",
      "fav_food ice cream\n",
      "job python programmer\n"
     ]
    }
   ],
   "metadata": {}
  },
  {
   "cell_type": "code",
   "execution_count": 17,
   "source": [
    "# tuples are immutable\r\n",
    "my_random_tuple = ('first',1,7,6,4,5,8,'hi there',2,3,1,5,2,1,9,10)\r\n",
    "my_tuple = ('first_value','second_value','third_value')\r\n",
    "\r\n",
    "print(my_random_tuple[0]) \r\n",
    "print(my_random_tuple[::-1])\r\n",
    "\r\n",
    "print(my_random_tuple.index('hi there'))"
   ],
   "outputs": [
    {
     "output_type": "stream",
     "name": "stdout",
     "text": [
      "first\n",
      "(10, 9, 1, 2, 5, 1, 3, 2, 'hi there', 8, 5, 4, 6, 7, 1, 'first')\n",
      "7\n"
     ]
    }
   ],
   "metadata": {}
  },
  {
   "cell_type": "code",
   "execution_count": 19,
   "source": [
    "# tuple unpacking\r\n",
    "first_var, second_var, third_var = my_tuple \r\n",
    "print(third_var) \r\n",
    "\r\n",
    "print('first' in my_random_tuple)"
   ],
   "outputs": [
    {
     "output_type": "stream",
     "name": "stdout",
     "text": [
      "third_value\n",
      "True\n"
     ]
    }
   ],
   "metadata": {}
  },
  {
   "cell_type": "code",
   "execution_count": 27,
   "source": [
    "# sets are unordered \r\n",
    "# sets cannot have duplicates | duplicates are discarded \r\n",
    "# sets are optimized for finding information\r\n",
    "my_set = {1,6,2,'java','ruby',8,9,10,21,1000,'python', 6}  \r\n",
    "print(my_set) \r\n",
    "\r\n",
    "print('java' in my_set) \r\n",
    "\r\n",
    "#math operations are optimized in sets"
   ],
   "outputs": [
    {
     "output_type": "stream",
     "name": "stdout",
     "text": [
      "{1, 'ruby', 2, 6, 8, 9, 'java', 10, 1000, 'python', 21}\n",
      "True\n"
     ]
    }
   ],
   "metadata": {}
  },
  {
   "cell_type": "code",
   "execution_count": 28,
   "source": [
    "my_set = {1,6,2,'java','ruby',8,9,10,21,1000,'python'}\r\n",
    "programming_set = {'java','ruby','javascript','python','c'}\r\n",
    "print(my_set.intersection(programming_set)) # elements in common in both sets\r\n",
    "print(my_set.union(programming_set)) # all elements in both, no duplicates\r\n",
    "print(my_set.difference(programming_set)) # in my_set, not in other\r\n",
    "print(programming_set.difference(my_set)) # in programming_set, not in my_set\r\n"
   ],
   "outputs": [
    {
     "output_type": "stream",
     "name": "stdout",
     "text": [
      "{'python', 'ruby', 'java'}\n",
      "{1, 'ruby', 2, 6, 8, 9, 'java', 10, 1000, 'python', 'c', 'javascript', 21}\n",
      "{1, 2, 6, 8, 9, 10, 1000, 21}\n",
      "{'javascript', 'c'}\n"
     ]
    }
   ],
   "metadata": {}
  },
  {
   "cell_type": "code",
   "execution_count": 29,
   "source": [
    "for item in my_set:\r\n",
    "    print(item)"
   ],
   "outputs": [
    {
     "output_type": "stream",
     "name": "stdout",
     "text": [
      "1\n",
      "ruby\n",
      "2\n",
      "6\n",
      "8\n",
      "9\n",
      "java\n",
      "10\n",
      "1000\n",
      "python\n",
      "21\n"
     ]
    }
   ],
   "metadata": {}
  }
 ],
 "metadata": {
  "orig_nbformat": 4,
  "language_info": {
   "name": "python",
   "version": "3.9.6",
   "mimetype": "text/x-python",
   "codemirror_mode": {
    "name": "ipython",
    "version": 3
   },
   "pygments_lexer": "ipython3",
   "nbconvert_exporter": "python",
   "file_extension": ".py"
  },
  "kernelspec": {
   "name": "python3",
   "display_name": "Python 3.9.6 64-bit (windows store)"
  },
  "interpreter": {
   "hash": "ad250f64a57e6b35d42f7539fcacc8fd2c4c3943b689b18debf672e6f24194f3"
  }
 },
 "nbformat": 4,
 "nbformat_minor": 2
}